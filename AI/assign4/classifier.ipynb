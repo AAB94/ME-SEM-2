{
 "cells": [
  {
   "cell_type": "code",
   "execution_count": 1,
   "metadata": {},
   "outputs": [],
   "source": [
    "import numpy as np\n",
    "import pandas as pd\n",
    "import tensorflow as tf"
   ]
  },
  {
   "cell_type": "code",
   "execution_count": 9,
   "metadata": {},
   "outputs": [],
   "source": [
    "bank_df = pd.read_csv(\"/home/benjamin/programs/ME SEM2/AI/assign4/dataset.csv\")\n",
    "bank_df = bank_df.rename(columns={'Current Salary':\"CurrentSalary\"})\n",
    "\n",
    "normalized_features = ['CreditBonus', 'Age', 'Tenure', 'Balance', 'AvailedProducts', 'CreditCardPresent',\n",
    "       'ActiveOnline', 'CurrentSalary']\n",
    "\n",
    "normalized_df = pd.DataFrame()\n",
    "normalized_df = bank_df[normalized_features].apply(lambda x: (x - x.min())/(x.max() - x.min()))\n",
    "\n",
    "\n"
   ]
  },
  {
   "cell_type": "markdown",
   "metadata": {},
   "source": [
    "## Creating Features from Dataframe for Neural Network"
   ]
  },
  {
   "cell_type": "code",
   "execution_count": 10,
   "metadata": {},
   "outputs": [],
   "source": [
    "credit_bonus = tf.feature_column.numeric_column('CreditBonus') \n",
    "age = tf.feature_column.numeric_column('Age')\n",
    "tenure = tf.feature_column.numeric_column('Tenure')\n",
    "balance = tf.feature_column.numeric_column('Balance')\n",
    "avail_prod = tf.feature_column.numeric_column('AvailedProducts')\n",
    "cred_card_pres = tf.feature_column.numeric_column('CreditCardPresent')\n",
    "active_online = tf.feature_column.numeric_column('ActiveOnline')\n",
    "cur_sal = tf.feature_column.numeric_column('CurrentSalary')\n",
    "\n",
    "features = features = [credit_bonus, age, tenure, balance, avail_prod, cred_card_pres,\n",
    "            active_online, cur_sal]\n",
    "\n",
    "labels = bank_df['Status']"
   ]
  },
  {
   "cell_type": "code",
   "execution_count": 11,
   "metadata": {},
   "outputs": [],
   "source": [
    "from sklearn.model_selection import train_test_split"
   ]
  },
  {
   "cell_type": "code",
   "execution_count": 12,
   "metadata": {},
   "outputs": [],
   "source": [
    "xtrain, xtest, ytrain, ytest = train_test_split(normalized_df, labels, test_size=0.1)\n"
   ]
  },
  {
   "cell_type": "markdown",
   "metadata": {},
   "source": [
    "# Input Function For Model"
   ]
  },
  {
   "cell_type": "code",
   "execution_count": 13,
   "metadata": {},
   "outputs": [],
   "source": [
    "input_fun = tf.estimator.inputs.pandas_input_fn(\n",
    "                x=xtrain,y=ytrain,batch_size=10,shuffle=True\n",
    "            )"
   ]
  },
  {
   "cell_type": "markdown",
   "metadata": {},
   "source": [
    "# Inpout Function for Evaluator"
   ]
  },
  {
   "cell_type": "code",
   "execution_count": 26,
   "metadata": {},
   "outputs": [],
   "source": [
    "eval_input_func = tf.estimator.inputs.pandas_input_fn(\n",
    "                    x=xtest,y=ytest,batch_size=10,num_epochs=10,shuffle=False\n",
    "                 )"
   ]
  },
  {
   "cell_type": "markdown",
   "metadata": {},
   "source": [
    "## Model When Activation Function is ReLu"
   ]
  },
  {
   "cell_type": "code",
   "execution_count": 30,
   "metadata": {},
   "outputs": [
    {
     "name": "stdout",
     "output_type": "stream",
     "text": [
      "INFO:tensorflow:Using default config.\n",
      "WARNING:tensorflow:Using temporary folder as model directory: /tmp/tmpfmhur_du\n",
      "INFO:tensorflow:Using config: {'_num_worker_replicas': 1, '_task_type': 'worker', '_keep_checkpoint_max': 5, '_log_step_count_steps': 100, '_save_checkpoints_steps': None, '_master': '', '_global_id_in_cluster': 0, '_model_dir': '/tmp/tmpfmhur_du', '_save_summary_steps': 100, '_is_chief': True, '_evaluation_master': '', '_tf_random_seed': None, '_service': None, '_save_checkpoints_secs': 600, '_session_config': None, '_keep_checkpoint_every_n_hours': 10000, '_cluster_spec': <tensorflow.python.training.server_lib.ClusterSpec object at 0x7f0dbc8a34a8>, '_task_id': 0, '_num_ps_replicas': 0}\n",
      "INFO:tensorflow:Calling model_fn.\n",
      "INFO:tensorflow:Done calling model_fn.\n",
      "INFO:tensorflow:Create CheckpointSaverHook.\n",
      "INFO:tensorflow:Graph was finalized.\n",
      "INFO:tensorflow:Running local_init_op.\n",
      "INFO:tensorflow:Done running local_init_op.\n",
      "INFO:tensorflow:Saving checkpoints for 1 into /tmp/tmpfmhur_du/model.ckpt.\n",
      "INFO:tensorflow:step = 1, loss = 7.4079986\n",
      "INFO:tensorflow:global_step/sec: 279.466\n",
      "INFO:tensorflow:step = 101, loss = 4.5599537 (0.361 sec)\n",
      "INFO:tensorflow:global_step/sec: 522.928\n",
      "INFO:tensorflow:step = 201, loss = 3.5867662 (0.189 sec)\n",
      "INFO:tensorflow:global_step/sec: 583.142\n",
      "INFO:tensorflow:step = 301, loss = 3.722266 (0.170 sec)\n",
      "INFO:tensorflow:global_step/sec: 420.557\n",
      "INFO:tensorflow:step = 401, loss = 6.1026077 (0.242 sec)\n",
      "INFO:tensorflow:global_step/sec: 480.779\n",
      "INFO:tensorflow:step = 501, loss = 3.632286 (0.205 sec)\n",
      "INFO:tensorflow:global_step/sec: 513.738\n",
      "INFO:tensorflow:step = 601, loss = 6.0568976 (0.195 sec)\n",
      "INFO:tensorflow:global_step/sec: 535.373\n",
      "INFO:tensorflow:step = 701, loss = 6.9924054 (0.185 sec)\n",
      "INFO:tensorflow:global_step/sec: 630.11\n",
      "INFO:tensorflow:step = 801, loss = 9.259305 (0.161 sec)\n",
      "INFO:tensorflow:Saving checkpoints for 900 into /tmp/tmpfmhur_du/model.ckpt.\n",
      "INFO:tensorflow:Loss for final step: 5.423705.\n"
     ]
    },
    {
     "data": {
      "text/plain": [
       "<tensorflow.python.estimator.canned.dnn.DNNClassifier at 0x7f0dbd5c02b0>"
      ]
     },
     "execution_count": 30,
     "metadata": {},
     "output_type": "execute_result"
    }
   ],
   "source": [
    "model = tf.estimator.DNNClassifier(\n",
    "            hidden_units=[16,16,16], \n",
    "            feature_columns=features, \n",
    "            n_classes=2, \n",
    "            optimizer=tf.train.GradientDescentOptimizer(0.1)\n",
    "        )\n",
    "\n",
    "model.train(input_fn=input_fun, steps=1000)"
   ]
  },
  {
   "cell_type": "markdown",
   "metadata": {},
   "source": [
    "# Model when Activation Function is Sigmoid"
   ]
  },
  {
   "cell_type": "code",
   "execution_count": 33,
   "metadata": {},
   "outputs": [
    {
     "name": "stdout",
     "output_type": "stream",
     "text": [
      "INFO:tensorflow:Using default config.\n",
      "WARNING:tensorflow:Using temporary folder as model directory: /tmp/tmp851ezy8i\n",
      "INFO:tensorflow:Using config: {'_num_worker_replicas': 1, '_task_type': 'worker', '_keep_checkpoint_max': 5, '_log_step_count_steps': 100, '_save_checkpoints_steps': None, '_master': '', '_global_id_in_cluster': 0, '_model_dir': '/tmp/tmp851ezy8i', '_save_summary_steps': 100, '_is_chief': True, '_evaluation_master': '', '_tf_random_seed': None, '_service': None, '_save_checkpoints_secs': 600, '_session_config': None, '_keep_checkpoint_every_n_hours': 10000, '_cluster_spec': <tensorflow.python.training.server_lib.ClusterSpec object at 0x7f0dcea3aeb8>, '_task_id': 0, '_num_ps_replicas': 0}\n",
      "INFO:tensorflow:Calling model_fn.\n",
      "INFO:tensorflow:Done calling model_fn.\n",
      "INFO:tensorflow:Create CheckpointSaverHook.\n",
      "INFO:tensorflow:Graph was finalized.\n",
      "INFO:tensorflow:Running local_init_op.\n",
      "INFO:tensorflow:Done running local_init_op.\n",
      "INFO:tensorflow:Saving checkpoints for 1 into /tmp/tmp851ezy8i/model.ckpt.\n",
      "INFO:tensorflow:step = 1, loss = 9.269825\n",
      "INFO:tensorflow:global_step/sec: 401.997\n",
      "INFO:tensorflow:step = 101, loss = 5.4661207 (0.256 sec)\n",
      "INFO:tensorflow:global_step/sec: 550.535\n",
      "INFO:tensorflow:step = 201, loss = 3.6736326 (0.176 sec)\n",
      "INFO:tensorflow:global_step/sec: 565.049\n",
      "INFO:tensorflow:step = 301, loss = 3.8835735 (0.183 sec)\n",
      "INFO:tensorflow:global_step/sec: 367.339\n",
      "INFO:tensorflow:step = 401, loss = 3.895662 (0.272 sec)\n",
      "INFO:tensorflow:global_step/sec: 532.082\n",
      "INFO:tensorflow:step = 501, loss = 6.1025934 (0.184 sec)\n",
      "INFO:tensorflow:global_step/sec: 577.787\n",
      "INFO:tensorflow:step = 601, loss = 3.500999 (0.170 sec)\n",
      "INFO:tensorflow:global_step/sec: 431.619\n",
      "INFO:tensorflow:step = 701, loss = 5.003963 (0.243 sec)\n",
      "INFO:tensorflow:global_step/sec: 471.928\n",
      "INFO:tensorflow:step = 801, loss = 3.356902 (0.201 sec)\n",
      "INFO:tensorflow:Saving checkpoints for 900 into /tmp/tmp851ezy8i/model.ckpt.\n",
      "INFO:tensorflow:Loss for final step: 6.5471954.\n"
     ]
    },
    {
     "data": {
      "text/plain": [
       "<tensorflow.python.estimator.canned.dnn.DNNClassifier at 0x7f0dcea3a978>"
      ]
     },
     "execution_count": 33,
     "metadata": {},
     "output_type": "execute_result"
    }
   ],
   "source": [
    "model = tf.estimator.DNNClassifier(\n",
    "            hidden_units=[16,16,16], \n",
    "            feature_columns=features, \n",
    "            n_classes=2,\n",
    "            optimizer=tf.train.GradientDescentOptimizer(0.1),\n",
    "            activation_fn = tf.sigmoid \n",
    "        )\n",
    "\n",
    "model.train(input_fn=input_fun, steps=1000)"
   ]
  },
  {
   "cell_type": "code",
   "execution_count": null,
   "metadata": {},
   "outputs": [
    {
     "name": "stdout",
     "output_type": "stream",
     "text": [
      "INFO:tensorflow:Calling model_fn.\n",
      "INFO:tensorflow:Done calling model_fn.\n",
      "INFO:tensorflow:Starting evaluation at 2018-04-21-20:23:44\n",
      "INFO:tensorflow:Graph was finalized.\n",
      "INFO:tensorflow:Restoring parameters from /tmp/tmp851ezy8i/model.ckpt-900\n",
      "INFO:tensorflow:Running local_init_op.\n",
      "INFO:tensorflow:Done running local_init_op.\n"
     ]
    }
   ],
   "source": [
    "result = model.evaluate(eval_input_func)"
   ]
  },
  {
   "cell_type": "code",
   "execution_count": 32,
   "metadata": {},
   "outputs": [
    {
     "data": {
      "text/plain": [
       "{'accuracy': 0.813,\n",
       " 'accuracy_baseline': 0.8,\n",
       " 'auc': 0.7570937,\n",
       " 'auc_precision_recall': 0.518268,\n",
       " 'average_loss': 0.45678857,\n",
       " 'global_step': 900,\n",
       " 'label/mean': 0.2,\n",
       " 'loss': 4.567886,\n",
       " 'prediction/mean': 0.26565355}"
      ]
     },
     "execution_count": 32,
     "metadata": {},
     "output_type": "execute_result"
    }
   ],
   "source": [
    "result"
   ]
  },
  {
   "cell_type": "code",
   "execution_count": null,
   "metadata": {},
   "outputs": [],
   "source": []
  }
 ],
 "metadata": {
  "kernelspec": {
   "display_name": "Python 3",
   "language": "python",
   "name": "python3"
  },
  "language_info": {
   "codemirror_mode": {
    "name": "ipython",
    "version": 3
   },
   "file_extension": ".py",
   "mimetype": "text/x-python",
   "name": "python",
   "nbconvert_exporter": "python",
   "pygments_lexer": "ipython3",
   "version": "3.5.2"
  }
 },
 "nbformat": 4,
 "nbformat_minor": 2
}
